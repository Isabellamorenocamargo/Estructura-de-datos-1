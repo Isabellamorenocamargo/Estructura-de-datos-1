{
  "nbformat": 4,
  "nbformat_minor": 0,
  "metadata": {
    "colab": {
      "provenance": []
    },
    "kernelspec": {
      "name": "python3",
      "display_name": "Python 3"
    },
    "language_info": {
      "name": "python"
    }
  },
  "cells": [
    {
      "cell_type": "code",
      "source": [
        "#BONUS EDD1 ISABELLA MORENO CAMARGO"
      ],
      "metadata": {
        "id": "-Y0gN9Kz871w"
      },
      "execution_count": null,
      "outputs": []
    },
    {
      "cell_type": "code",
      "source": [
        "class Nodo:\n",
        "    def __init__(self, data = None, next = None):\n",
        "        self.data = data\n",
        "        self.next = next\n",
        "\n",
        "\n",
        "class Lista_enlazada:\n",
        "    def __init__(self):\n",
        "        self.head = None\n",
        "\n",
        "    #Metodo para insertar dato (nodo) en una posicion x\n",
        "    def insertar_en_posicionx_(self,posicion, dato):\n",
        "        if posicion == 0:  # insertar en primera posicion\n",
        "            nuevonode = Nodo(dato, self.head)\n",
        "            self.head = nuevonode\n",
        "            return\n",
        "\n",
        "        anterior=None\n",
        "        actual=self.head\n",
        "        nuevonode= Nodo(dato) # crear nuevo nodo con el dato\n",
        "\n",
        "        if actual is None: # si la lista esta vacia, agregar el nuevo nodo como head\n",
        "            self.head = nuevonode\n",
        "            return\n",
        "\n",
        "        for i in range (posicion):\n",
        "            if actual is None: # if position is greater than the length of the list, insert at the end\n",
        "                anterior.next = nuevonode\n",
        "                return\n",
        "            anterior=actual\n",
        "            actual=actual.next\n",
        "\n",
        "        anterior.next = nuevonode  #referencia a posicion de neuvo\n",
        "        nuevonode.next = actual #referente a posicion actual del nodo a rodar\n",
        "\n",
        "      #Metodo para insertar nodo despues de referencia o key\n",
        "    def insertar_nodo_despues_de_ref_(self,keyf, dato):\n",
        "\n",
        "          anterior=None\n",
        "          actual=self.head\n",
        "          nuevonode=Nodo(dato)\n",
        "\n",
        "          while actual and actual.data != keyf:\n",
        "              anterior=actual\n",
        "              actual=actual.next\n",
        "\n",
        "          if actual is None: # al no encontrar la referencia, no ocurre nada\n",
        "              return\n",
        "          nuevonode.next=actual.next\n",
        "          actual.next=nuevonode\n",
        "\n",
        "\n",
        "  # Método para imprimir la lista de nodos\n",
        "    def print_list( self ):\n",
        "        node = self.head\n",
        "        while node != None:\n",
        "            print(node.data, end =\" --> \")\n",
        "            node = node.next\n",
        "\n",
        "\n",
        "Mi_lista = Lista_enlazada() # Instancia de la clase\n",
        "\n",
        "\n",
        "Mi_lista.insertar_en_posicionx_(0, \"a\") #ingresar estos datos en la lista para despues probar metodo pidiendo datos\n",
        "Mi_lista.insertar_en_posicionx_(1, \"b\")\n",
        "Mi_lista.insertar_en_posicionx_(2, \"c\")\n",
        "Mi_lista.insertar_en_posicionx_(3, \"d\")\n",
        "Mi_lista.insertar_en_posicionx_(4, \"e\")\n",
        "\n",
        "#leer datos para Metodo de insertar en posicion x\n",
        "print(\"ingrese posicion en la que quiere insertar el dato no mayor a posicion 5\")\n",
        "posicion=int(input())\n",
        "print(\"inserte dato a ingresar\")\n",
        "dato=input()\n",
        "\n",
        "Mi_lista.insertar_en_posicionx_(posicion, dato)  #Metodo para insertar dato (nodo) en una posicion x   \"\"\"\n",
        "\n",
        "Mi_lista.print_list() # Imprimimos la lista de nodos\n",
        "\n",
        "#leer datos para método de insertar despues de referencia\n",
        "print(\"\\n insertar referencia\")\n",
        "keyf=input()\n",
        "\n",
        "print(\"inserte dato a ingresar\")\n",
        "dato=input()\n",
        "\n",
        "Mi_lista.insertar_nodo_despues_de_ref_(keyf,dato)  #Metodo para insertar nodo despues de referencia o key\n",
        "Mi_lista.print_list() # Imprimimos la lista de nodos"
      ],
      "metadata": {
        "colab": {
          "base_uri": "https://localhost:8080/"
        },
        "id": "Au5OuAtrEIt8",
        "outputId": "3ab189c3-50af-4ee5-f8eb-1573d2fefe48"
      },
      "execution_count": 26,
      "outputs": [
        {
          "output_type": "stream",
          "name": "stdout",
          "text": [
            "ingrese posicion en la que quiere insertar el dato no mayor a posicion 5\n",
            "4\n",
            "inserte dato a ingresar\n",
            "yo\n",
            "a --> b --> c --> d --> yo --> e --> \n",
            " insertar referencia\n",
            "c\n",
            "inserte dato a ingresar\n",
            "isa\n",
            "a --> b --> c --> isa --> d --> yo --> e --> "
          ]
        }
      ]
    }
  ]
}